{
 "cells": [
  {
   "cell_type": "markdown",
   "id": "35c2e487",
   "metadata": {},
   "source": [
    "# TOPIC: Python Basics Variable"
   ]
  },
  {
   "cell_type": "markdown",
   "id": "f3eee688",
   "metadata": {},
   "source": [
    "## 1. Declare two variables, `x` and `y`, and assign them integer values. \n",
    "\n",
    "  ## Swap the values of these variables without using any temporary variable"
   ]
  },
  {
   "cell_type": "code",
   "execution_count": 1,
   "id": "c697cb5f",
   "metadata": {},
   "outputs": [],
   "source": [
    "# function to swap two numbers\n",
    "def swap(x, y):\n",
    "    x,y = y,x\n",
    "    return x,y\n"
   ]
  },
  {
   "cell_type": "code",
   "execution_count": 2,
   "id": "39e6ca5a",
   "metadata": {},
   "outputs": [
    {
     "data": {
      "text/plain": [
       "(10, 5)"
      ]
     },
     "execution_count": 2,
     "metadata": {},
     "output_type": "execute_result"
    }
   ],
   "source": [
    "# initialize two numbers\n",
    "x = 5\n",
    "y = 10\n",
    "swap(x, y)"
   ]
  },
  {
   "cell_type": "markdown",
   "id": "27d69e58",
   "metadata": {},
   "source": [
    "## 2. Create a program that calculates the area of a rectangle. Take the length and\n",
    "## width as inputs from the user and store them in variables. Calculate and\n",
    "## display the area.\n"
   ]
  },
  {
   "cell_type": "code",
   "execution_count": 3,
   "id": "ee70df9e",
   "metadata": {},
   "outputs": [],
   "source": [
    "# function to calculate the area of a rectangle\n",
    "def area_of_rectangle(length, width):\n",
    "    area = length * width\n",
    "    return area\n"
   ]
  },
  {
   "cell_type": "code",
   "execution_count": 4,
   "id": "bd73f0fc",
   "metadata": {},
   "outputs": [
    {
     "name": "stdout",
     "output_type": "stream",
     "text": [
      "enter the length of the rectangle : 20\n",
      "enter the length of the width : 10\n"
     ]
    },
    {
     "data": {
      "text/plain": [
       "200"
      ]
     },
     "execution_count": 4,
     "metadata": {},
     "output_type": "execute_result"
    }
   ],
   "source": [
    "# Initailize the length and width of the rectangle\n",
    "length = int(input(\"enter the length of the rectangle : \"))\n",
    "width = int(input(\"enter the length of the width : \"))\n",
    "area_of_rectangle(length, width)"
   ]
  },
  {
   "cell_type": "markdown",
   "id": "199b456c",
   "metadata": {},
   "source": [
    "## 3. Write a Python program that converts temperatures from Celsius to\n",
    "## Fahrenheit. Take the temperature in Celsius as input, store it in a variable,\n",
    "## convert it to Fahrenheit, and display the result."
   ]
  },
  {
   "cell_type": "code",
   "execution_count": 5,
   "id": "ba3faab7",
   "metadata": {},
   "outputs": [],
   "source": [
    "# function to convert celsius into fahrenheit\n",
    "def convert_temp(celsius):\n",
    "    fahrenheit = (celsius*9/5)+32\n",
    "    return fahrenheit\n"
   ]
  },
  {
   "cell_type": "code",
   "execution_count": 6,
   "id": "d1be1485",
   "metadata": {},
   "outputs": [
    {
     "data": {
      "text/plain": [
       "104.0"
      ]
     },
     "execution_count": 6,
     "metadata": {},
     "output_type": "execute_result"
    }
   ],
   "source": [
    "# given the input \n",
    "celsius = 40\n",
    "convert_temp(40)"
   ]
  },
  {
   "cell_type": "markdown",
   "id": "520ba9df",
   "metadata": {},
   "source": [
    "# TOPIC: String Based Questions"
   ]
  },
  {
   "cell_type": "markdown",
   "id": "b3158386",
   "metadata": {},
   "source": [
    "## 1. Write a Python program that takes a string as input and prints the length of\n",
    "## the string."
   ]
  },
  {
   "cell_type": "code",
   "execution_count": 7,
   "id": "dc45105d",
   "metadata": {},
   "outputs": [],
   "source": [
    "# function that takes string as input and given length\n",
    "def string(l):\n",
    "    m = len(l)\n",
    "    return m\n",
    "    "
   ]
  },
  {
   "cell_type": "code",
   "execution_count": 8,
   "id": "00372334",
   "metadata": {},
   "outputs": [
    {
     "data": {
      "text/plain": [
       "11"
      ]
     },
     "execution_count": 8,
     "metadata": {},
     "output_type": "execute_result"
    }
   ],
   "source": [
    "string('RathanKumar')"
   ]
  },
  {
   "cell_type": "markdown",
   "id": "c22630d5",
   "metadata": {},
   "source": [
    "##  Create a program that takes a sentence from the user and counts the number\n",
    "## of vowels (a, e, i, o, u) in the string."
   ]
  },
  {
   "cell_type": "code",
   "execution_count": 9,
   "id": "8948bcdd",
   "metadata": {},
   "outputs": [],
   "source": [
    "# function takes the string and gives the no of vowels in th string\n",
    "def find_vowels(a:str):\n",
    "    count=0\n",
    "    for i in a:\n",
    "        if i == 'a' or i == 'e' or i =='i' or i =='o' or i =='u':\n",
    "            count += 1\n",
    "            \n",
    "    return count"
   ]
  },
  {
   "cell_type": "code",
   "execution_count": 10,
   "id": "9c1a4ea2",
   "metadata": {},
   "outputs": [
    {
     "name": "stdout",
     "output_type": "stream",
     "text": [
      "enter the name :Rathankumar\n"
     ]
    },
    {
     "data": {
      "text/plain": [
       "4"
      ]
     },
     "execution_count": 10,
     "metadata": {},
     "output_type": "execute_result"
    }
   ],
   "source": [
    "# taking the string from the user using the input function\n",
    "j = str(input(\"enter the name :\"))\n",
    "find_vowels(j)"
   ]
  },
  {
   "cell_type": "markdown",
   "id": "e92b70e6",
   "metadata": {},
   "source": [
    "## 3. Given a string, reverse the order of characters using string slicing and print\n",
    "## the reversed string.\n"
   ]
  },
  {
   "cell_type": "code",
   "execution_count": 11,
   "id": "619a7b91",
   "metadata": {},
   "outputs": [],
   "source": [
    "# function to reverse the string using the slicing methods\n",
    "def reverse(a):\n",
    "    a = a[::-1]\n",
    "    return a"
   ]
  },
  {
   "cell_type": "code",
   "execution_count": 12,
   "id": "e58b9adb",
   "metadata": {},
   "outputs": [
    {
     "data": {
      "text/plain": [
       "'ramuknahtaR'"
      ]
     },
     "execution_count": 12,
     "metadata": {},
     "output_type": "execute_result"
    }
   ],
   "source": [
    "a = \"Rathankumar\"\n",
    "reverse(a)"
   ]
  },
  {
   "cell_type": "markdown",
   "id": "d1bd092e",
   "metadata": {},
   "source": [
    "## 4. Write a program that takes a string as input and checks if it is a palindrome\n",
    "## (reads the same forwards and backwards)."
   ]
  },
  {
   "cell_type": "code",
   "execution_count": 13,
   "id": "f24bbedb",
   "metadata": {},
   "outputs": [],
   "source": [
    "# function To check the given string is palindrome or not\n",
    "def check(x):\n",
    "    temp = x\n",
    "    x = x[::-1]\n",
    "    if temp == x:\n",
    "        print(f\"The given string is palindrome '{x}'\")\n",
    "    else:\n",
    "        print(f\"The given string is not palindrome '{x}'\")"
   ]
  },
  {
   "cell_type": "code",
   "execution_count": 14,
   "id": "2990103f",
   "metadata": {},
   "outputs": [
    {
     "name": "stdout",
     "output_type": "stream",
     "text": [
      "The given string is palindrome 'malayalam'\n"
     ]
    }
   ],
   "source": [
    "check(\"malayalam\")"
   ]
  },
  {
   "cell_type": "markdown",
   "id": "ee3063a2",
   "metadata": {},
   "source": [
    "## 5. Create a program that takes a string as input and removes all the spaces from\n",
    "## it. Print the modified string without spaces."
   ]
  },
  {
   "cell_type": "code",
   "execution_count": 15,
   "id": "cedab7ed",
   "metadata": {},
   "outputs": [],
   "source": [
    "# function To take string as input and remove the spaces from the string and given as output\n",
    "def remove_spaces(x):\n",
    "    x = x.strip()\n",
    "    return x"
   ]
  },
  {
   "cell_type": "code",
   "execution_count": 16,
   "id": "fb8da443",
   "metadata": {},
   "outputs": [
    {
     "data": {
      "text/plain": [
       "'Rathan'"
      ]
     },
     "execution_count": 16,
     "metadata": {},
     "output_type": "execute_result"
    }
   ],
   "source": [
    "x = \"  Rathan   \"\n",
    "remove_spaces(x)"
   ]
  },
  {
   "cell_type": "code",
   "execution_count": null,
   "id": "3600a480",
   "metadata": {},
   "outputs": [],
   "source": []
  }
 ],
 "metadata": {
  "kernelspec": {
   "display_name": "Python 3 (ipykernel)",
   "language": "python",
   "name": "python3"
  },
  "language_info": {
   "codemirror_mode": {
    "name": "ipython",
    "version": 3
   },
   "file_extension": ".py",
   "mimetype": "text/x-python",
   "name": "python",
   "nbconvert_exporter": "python",
   "pygments_lexer": "ipython3",
   "version": "3.10.9"
  }
 },
 "nbformat": 4,
 "nbformat_minor": 5
}
